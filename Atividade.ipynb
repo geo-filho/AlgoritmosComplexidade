{
  "nbformat": 4,
  "nbformat_minor": 0,
  "metadata": {
    "colab": {
      "provenance": [],
      "authorship_tag": "ABX9TyNVXVrFcsp1FO1RWnzVAs4P",
      "include_colab_link": true
    },
    "kernelspec": {
      "name": "python3",
      "display_name": "Python 3"
    },
    "language_info": {
      "name": "python"
    }
  },
  "cells": [
    {
      "cell_type": "markdown",
      "metadata": {
        "id": "view-in-github",
        "colab_type": "text"
      },
      "source": [
        "<a href=\"https://colab.research.google.com/github/geo-filho/AlgoritmosComplexidade/blob/main/Atividade.ipynb\" target=\"_parent\"><img src=\"https://colab.research.google.com/assets/colab-badge.svg\" alt=\"Open In Colab\"/></a>"
      ]
    },
    {
      "cell_type": "code",
      "execution_count": null,
      "metadata": {
        "colab": {
          "base_uri": "https://localhost:8080/"
        },
        "id": "cL3UQDHzyv3H",
        "outputId": "5ad041bf-6466-48c1-cbda-6907420e0e2e"
      },
      "outputs": [
        {
          "output_type": "stream",
          "name": "stdout",
          "text": [
            "Digite um número: 2\n",
            "1. Calcular o quadrado do número: \n",
            "2. Calcular o cubo do número: \n",
            "3. Calcular a raiz quadrada do número: \n",
            "4. Calcular a potência do número para um expoente: \n",
            "5. Sair do programa \n",
            "\n",
            "Escolha uma opção: 5\n",
            "Saindo do programa...\n"
          ]
        }
      ],
      "source": [
        "import math\n",
        "\n",
        "while True:\n",
        "\n",
        "  num = float(input(\"Digite um número: \"))\n",
        "\n",
        "  print(\"1. Calcular o quadrado do número: \")\n",
        "  print(\"2. Calcular o cubo do número: \")\n",
        "  print(\"3. Calcular a raiz quadrada do número: \")\n",
        "  print(\"4. Calcular a potência do número para um expoente: \")\n",
        "  print(\"5. Sair do programa \\n\")\n",
        "  opcao = int(input(\"Escolha uma opção: \"))\n",
        "\n",
        "  def calcularQuadrado(num):\n",
        "    quadrado = num ** 2\n",
        "    return quadrado\n",
        "\n",
        "  def calcularCubo(num):\n",
        "    cubo = num ** 3\n",
        "    return cubo\n",
        "\n",
        "  def calcularRaizQuadrada(num):\n",
        "    raiz = math.sqrt(num)\n",
        "    return raiz\n",
        "\n",
        "  def calcularPotencia(num, expoente):\n",
        "    potencia = num ** expoente\n",
        "    return potencia\n",
        "\n",
        "  if opcao == 1:\n",
        "    print(\"O quadrado do número é:\", calcularQuadrado(num))\n",
        "\n",
        "  elif opcao == 2:\n",
        "    print(\"O cubo do número é:\", calcularCubo(num))\n",
        "\n",
        "  elif opcao == 3:\n",
        "    print(\"A raiz quadrada do número é:\", calcularRaizQuadrada(num))\n",
        "\n",
        "  elif opcao == 4:\n",
        "    expoente = float(input(\"Digite o expoente: \"))\n",
        "    print(\"A potência do número é:\", calcularPotencia(num, expoente))\n",
        "\n",
        "  elif opcao == 5:\n",
        "    print(\"Saindo do programa...\")\n",
        "    break\n",
        "\n",
        "  else:\n",
        "    print(\"Opção inválida. Tente novamente.\")\n",
        "\n"
      ]
    }
  ]
}