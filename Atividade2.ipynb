{
  "nbformat": 4,
  "nbformat_minor": 0,
  "metadata": {
    "colab": {
      "provenance": [],
      "authorship_tag": "ABX9TyP4TjvLzeji8skUzferRs+V",
      "include_colab_link": true
    },
    "kernelspec": {
      "name": "python3",
      "display_name": "Python 3"
    },
    "language_info": {
      "name": "python"
    }
  },
  "cells": [
    {
      "cell_type": "markdown",
      "metadata": {
        "id": "view-in-github",
        "colab_type": "text"
      },
      "source": [
        "<a href=\"https://colab.research.google.com/github/geo-filho/AlgoritmosComplexidade/blob/main/Atividade2.ipynb\" target=\"_parent\"><img src=\"https://colab.research.google.com/assets/colab-badge.svg\" alt=\"Open In Colab\"/></a>"
      ]
    },
    {
      "cell_type": "code",
      "execution_count": null,
      "metadata": {
        "colab": {
          "base_uri": "https://localhost:8080/"
        },
        "id": "-qT8i1EKohPj",
        "outputId": "f06d4244-b5df-4dee-e79b-d273f2a8558f"
      },
      "outputs": [
        {
          "output_type": "stream",
          "name": "stdout",
          "text": [
            "6\n"
          ]
        }
      ],
      "source": [
        "def mdc(a, b, i=None):\n",
        "    if i is None:\n",
        "        i = min(a, b)\n",
        "\n",
        "    if a % i == 0 and b % i == 0:\n",
        "        return i\n",
        "    else:\n",
        "        return mdc(a, b, i-1)\n",
        "\n",
        "print(mdc(24, 18))\n"
      ]
    },
    {
      "cell_type": "code",
      "source": [
        "def inverter_string(s):\n",
        "    if s == \"\":\n",
        "        return \"\"\n",
        "    else:\n",
        "        return s[-1] + inverter_string(s[:-1])\n",
        "\n",
        "print(inverter_string(\"Anderson\"))\n"
      ],
      "metadata": {
        "colab": {
          "base_uri": "https://localhost:8080/"
        },
        "id": "bUIbLEdls29y",
        "outputId": "61ba6ca7-caa4-4d01-a77a-ddc2e1599957"
      },
      "execution_count": null,
      "outputs": [
        {
          "output_type": "stream",
          "name": "stdout",
          "text": [
            "nosrednA\n"
          ]
        }
      ]
    },
    {
      "cell_type": "code",
      "source": [
        "# tive dificuldade nessa função\n",
        "def torre_de_hanoi(n, origem, destino, auxiliar):\n",
        "    if n == 1:\n",
        "        print(f\"Mova o disco 1 de {origem} para {destino}\")\n",
        "        return\n",
        "    torre_de_hanoi(n-1, origem, auxiliar, destino)\n",
        "    print(f\"Mova o disco {n} de {origem} para {destino}\")\n",
        "    torre_de_hanoi(n-1, auxiliar, destino, origem)\n",
        "\n",
        "torre_de_hanoi(4, \"A\", \"C\", \"B\")\n"
      ],
      "metadata": {
        "colab": {
          "base_uri": "https://localhost:8080/"
        },
        "id": "OSovwKX0vNza",
        "outputId": "90898a3b-ddac-46a0-9458-133f4db9c221"
      },
      "execution_count": null,
      "outputs": [
        {
          "output_type": "stream",
          "name": "stdout",
          "text": [
            "Mova o disco 1 de A para B\n",
            "Mova o disco 2 de A para C\n",
            "Mova o disco 1 de B para C\n",
            "Mova o disco 3 de A para B\n",
            "Mova o disco 1 de C para A\n",
            "Mova o disco 2 de C para B\n",
            "Mova o disco 1 de A para B\n",
            "Mova o disco 4 de A para C\n",
            "Mova o disco 1 de B para C\n",
            "Mova o disco 2 de B para A\n",
            "Mova o disco 1 de C para A\n",
            "Mova o disco 3 de B para C\n",
            "Mova o disco 1 de A para B\n",
            "Mova o disco 2 de A para C\n",
            "Mova o disco 1 de B para C\n"
          ]
        }
      ]
    }
  ]
}