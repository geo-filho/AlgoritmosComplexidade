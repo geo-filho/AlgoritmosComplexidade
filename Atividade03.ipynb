{
  "nbformat": 4,
  "nbformat_minor": 0,
  "metadata": {
    "colab": {
      "provenance": [],
      "authorship_tag": "ABX9TyNv3MLaOISR8f17TwZ45o4G",
      "include_colab_link": true
    },
    "kernelspec": {
      "name": "python3",
      "display_name": "Python 3"
    },
    "language_info": {
      "name": "python"
    }
  },
  "cells": [
    {
      "cell_type": "markdown",
      "metadata": {
        "id": "view-in-github",
        "colab_type": "text"
      },
      "source": [
        "<a href=\"https://colab.research.google.com/github/geo-filho/AlgoritmosComplexidade/blob/main/Atividade03.ipynb\" target=\"_parent\"><img src=\"https://colab.research.google.com/assets/colab-badge.svg\" alt=\"Open In Colab\"/></a>"
      ]
    },
    {
      "cell_type": "code",
      "execution_count": null,
      "metadata": {
        "colab": {
          "base_uri": "https://localhost:8080/"
        },
        "id": "aph2UCtxmhKz",
        "outputId": "24a17d46-47d3-4f83-d10f-88568fb39ab2"
      },
      "outputs": [
        {
          "output_type": "stream",
          "name": "stdout",
          "text": [
            "[10, 20, 30, 50, 70, 90]\n"
          ]
        }
      ],
      "source": [
        "# QUESTÃO 1\n",
        "\n",
        "def merge_sort(arr):\n",
        "    if len(arr) > 1:\n",
        "        meio = len(arr)//2\n",
        "        esq = arr[:meio]\n",
        "        dir = arr[meio:]\n",
        "\n",
        "        merge_sort(esq)\n",
        "        merge_sort(dir)\n",
        "\n",
        "        i = j = k = 0\n",
        "        while i < len(esq) and j < len(dir):\n",
        "            if esq[i] < dir[j]:\n",
        "                arr[k] = esq[i]\n",
        "                i += 1\n",
        "            else:\n",
        "                arr[k] = dir[j]\n",
        "                j += 1\n",
        "            k += 1\n",
        "\n",
        "        while i < len(esq):\n",
        "            arr[k] = esq[i]\n",
        "            i += 1\n",
        "            k += 1\n",
        "\n",
        "        while j < len(dir):\n",
        "            arr[k] = dir[j]\n",
        "            j += 1\n",
        "            k += 1\n",
        "    return arr\n",
        "\n",
        "print(merge_sort([50, 10, 70, 30, 90, 20]))"
      ]
    },
    {
      "cell_type": "code",
      "source": [
        "# QUESTÃO 2\n",
        "\n",
        "import random\n",
        "import time\n",
        "\n",
        "def shell_sort(arr):\n",
        "    n = len(arr)\n",
        "    gap = n // 2\n",
        "    while gap > 0:\n",
        "        for i in range(gap, n):\n",
        "            temp = arr[i]\n",
        "            j = i\n",
        "            while j >= gap and arr[j - gap] > temp:\n",
        "                arr[j] = arr[j - gap]\n",
        "                j -= gap\n",
        "            arr[j] = temp\n",
        "        gap //= 2\n",
        "    return arr\n",
        "\n",
        "def medir_tempo(func, lista):\n",
        "    inicio = time.time()\n",
        "    func(lista.copy())\n",
        "    fim = time.time()\n",
        "    return fim - inicio\n",
        "\n",
        "tamanhos = [100, 1000, 10000]\n",
        "\n",
        "for tamanho in tamanhos:\n",
        "    arr = [random.randint(1, 100000) for _ in range(tamanho)]\n",
        "\n",
        "    if tamanho <= 50:\n",
        "        def insertion_sort(arr):\n",
        "            for i in range(1, len(arr)):\n",
        "                chave = arr[i]\n",
        "                j = i - 1\n",
        "                while j >= 0 and arr[j] > chave:\n",
        "                    arr[j+1] = arr[j]\n",
        "                    j -= 1\n",
        "                arr[j+1] = chave\n",
        "            return arr\n",
        "\n",
        "        tempo = medir_tempo(insertion_sort, arr)\n",
        "        resultado = insertion_sort(arr)\n",
        "        print(f\"Tamanho {tamanho}: {resultado[:10]}\")\n",
        "        print(\"InsertionSort\")\n",
        "        print(f\"Tempo: {tempo:.6f} segundos\\n\")\n",
        "\n",
        "    elif tamanho <= 999:\n",
        "        def quick_sort(arr):\n",
        "            if len(arr) <= 1:\n",
        "                return arr\n",
        "            else:\n",
        "                pivo = arr[len(arr)//2]\n",
        "                esq = [x for x in arr if x < pivo]\n",
        "                meio = [x for x in arr if x == pivo]\n",
        "                dir = [x for x in arr if x > pivo]\n",
        "                return quick_sort(esq) + meio + quick_sort(dir)\n",
        "\n",
        "        tempo = medir_tempo(quick_sort, arr)\n",
        "        resultado = quick_sort(arr)\n",
        "        print(f\"Tamanho {tamanho}: {resultado[:10]}\")\n",
        "        print(\"QuickSort\")\n",
        "        print(f\"Tempo: {tempo:.6f} segundos\\n\")\n",
        "\n",
        "    else:\n",
        "        tempo_quick = medir_tempo(quick_sort, arr)\n",
        "        tempo_shell = medir_tempo(shell_sort, arr)\n",
        "\n",
        "        resultado_quick = quick_sort(arr)\n",
        "        resultado_shell = shell_sort(arr)\n",
        "\n",
        "        print(f\"Tamanho {tamanho} - 10 primeiros elementos:\")\n",
        "        print(f\"QuickSort: {resultado_quick[:10]} | Tempo: {tempo_quick:.6f} segundos\")\n",
        "        print(f\"ShellSort: {resultado_shell[:10]} | Tempo: {tempo_shell:.6f} segundos\\n\")\n"
      ],
      "metadata": {
        "colab": {
          "base_uri": "https://localhost:8080/"
        },
        "id": "UYv6-vi9m9M8",
        "outputId": "bf575d16-8cda-468b-db98-40f4b58d4fcf"
      },
      "execution_count": null,
      "outputs": [
        {
          "output_type": "stream",
          "name": "stdout",
          "text": [
            "Tamanho 100: [782, 2010, 3496, 4121, 4233, 4449, 7767, 9174, 9222, 11791]\n",
            "QuickSort\n",
            "Tempo: 0.000139 segundos\n",
            "\n",
            "Tamanho 1000 - 10 primeiros elementos:\n",
            "QuickSort: [119, 244, 461, 706, 772, 837, 1072, 1247, 1348, 1523] | Tempo: 0.001733 segundos\n",
            "ShellSort: [119, 244, 461, 706, 772, 837, 1072, 1247, 1348, 1523] | Tempo: 0.001726 segundos\n",
            "\n",
            "Tamanho 10000 - 10 primeiros elementos:\n",
            "QuickSort: [1, 21, 27, 29, 34, 37, 39, 64, 75, 90] | Tempo: 0.027356 segundos\n",
            "ShellSort: [1, 21, 27, 29, 34, 37, 39, 64, 75, 90] | Tempo: 0.039377 segundos\n",
            "\n"
          ]
        }
      ]
    },
    {
      "cell_type": "code",
      "source": [
        "# QUESTÃO 3\n",
        "\n",
        "import random\n",
        "\n",
        "tamanho = int(input(\"Digite o tamanho do array: \"))\n",
        "arr = [random.randint(1, 10000) for _ in range(tamanho)]\n",
        "\n",
        "n = len(arr)\n",
        "if n < 50:\n",
        "  def insertion_sort(arr):\n",
        "    for i in range(1, len(arr)):\n",
        "        chave = arr[i]\n",
        "        j = i - 1\n",
        "        while j >= 0 and arr[j] > chave:\n",
        "            arr[j+1] = arr[j]\n",
        "            j -= 1\n",
        "        arr[j+1] = chave\n",
        "    return arr\n",
        "\n",
        "  resultado = insertion_sort(arr)\n",
        "  print(resultado[:10])\n",
        "  print(\"InsertionSort\")\n",
        "\n",
        "elif n > 50 and n <= 999:\n",
        "  def quick_sort(arr):\n",
        "    if len(arr) <= 1:\n",
        "        return arr\n",
        "    else:\n",
        "        pivo = arr[len(arr)//2]\n",
        "        esq = [x for x in arr if x < pivo]\n",
        "        meio = [x for x in arr if x == pivo]\n",
        "        dir = [x for x in arr if x > pivo]\n",
        "        return quick_sort(esq) + meio + quick_sort(dir)\n",
        "\n",
        "  resultado = quick_sort(arr)\n",
        "  print(resultado[:10])\n",
        "  print(\"QuickSort\")\n",
        "\n",
        "elif n > 1000:\n",
        "  def merge_sort(arr):\n",
        "    if len(arr) > 1:\n",
        "        meio = len(arr)//2\n",
        "        esq = arr[:meio]\n",
        "        dir = arr[meio:]\n",
        "\n",
        "        merge_sort(esq)\n",
        "        merge_sort(dir)\n",
        "\n",
        "        i = j = k = 0\n",
        "        while i < len(esq) and j < len(dir):\n",
        "            if esq[i] < dir[j]:\n",
        "                arr[k] = esq[i]\n",
        "                i += 1\n",
        "            else:\n",
        "                arr[k] = dir[j]\n",
        "                j += 1\n",
        "            k += 1\n",
        "\n",
        "        while i < len(esq):\n",
        "            arr[k] = esq[i]\n",
        "            i += 1\n",
        "            k += 1\n",
        "\n",
        "        while j < len(dir):\n",
        "            arr[k] = dir[j]\n",
        "            j += 1\n",
        "            k += 1\n",
        "    return arr\n",
        "\n",
        "  resultado = merge_sort(arr)\n",
        "  print(resultado[:10])\n",
        "  print(\"MergeSort\")"
      ],
      "metadata": {
        "colab": {
          "base_uri": "https://localhost:8080/"
        },
        "id": "ebGSKT5VnZ1C",
        "outputId": "7a1d6e9d-5cde-436e-9b24-18fb0ccf7eda"
      },
      "execution_count": null,
      "outputs": [
        {
          "output_type": "stream",
          "name": "stdout",
          "text": [
            "Digite o tamanho do array: 1003\n",
            "[5, 24, 24, 49, 52, 54, 77, 126, 127, 150]\n",
            "MergeSort\n"
          ]
        }
      ]
    },
    {
      "cell_type": "markdown",
      "source": [
        "# QUESTÃO 4\n",
        "\n",
        "O Bubble Sort e o Insertion Sort são simples, sendo mais indicados apenas para listas pequenas, com o Insertion se destacando em casos quase ordenados; o Shell Sort é uma melhoria do Insertion que reduz trocas distantes e, tornando-o razoável para listas médias; o Merge Sort é estável, é muito eficiente em listas grandes e quando a estabilidade é importante; já o Quick Sort, é geralmente o mais rápido na prática para grandes volumes de dados devido à divisão eficiente e boa utilização de cache, sendo amplamente usado em implementações reais."
      ],
      "metadata": {
        "id": "qXkqEi7ytPLY"
      }
    },
    {
      "cell_type": "markdown",
      "source": [
        "# QUESTÃO 5\n",
        "\n",
        "Usaria o QuickSort, por ser mais eficiente com grandes volumes de dados, tendo em vista que há 1 milhão de unidades diferentes."
      ],
      "metadata": {
        "id": "uHvKCd1XuBZQ"
      }
    },
    {
      "cell_type": "code",
      "source": [],
      "metadata": {
        "id": "jAxFpIJqtScj"
      },
      "execution_count": null,
      "outputs": []
    }
  ]
}