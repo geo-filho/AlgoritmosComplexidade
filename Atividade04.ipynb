{
  "nbformat": 4,
  "nbformat_minor": 0,
  "metadata": {
    "colab": {
      "provenance": [],
      "authorship_tag": "ABX9TyNb1sY9q/w2lZja5bSnMX0y",
      "include_colab_link": true
    },
    "kernelspec": {
      "name": "python3",
      "display_name": "Python 3"
    },
    "language_info": {
      "name": "python"
    }
  },
  "cells": [
    {
      "cell_type": "markdown",
      "metadata": {
        "id": "view-in-github",
        "colab_type": "text"
      },
      "source": [
        "<a href=\"https://colab.research.google.com/github/geo-filho/AlgoritmosComplexidade/blob/main/Atividade04.ipynb\" target=\"_parent\"><img src=\"https://colab.research.google.com/assets/colab-badge.svg\" alt=\"Open In Colab\"/></a>"
      ]
    },
    {
      "cell_type": "code",
      "execution_count": null,
      "metadata": {
        "id": "bRsFdWRbsiZc"
      },
      "outputs": [],
      "source": [
        "import requests\n",
        "from bs4 import BeautifulSoup\n",
        "\n",
        "url = \"https://books.toscrape.com/index.html\"\n",
        "resposta = requests.get(url)\n",
        "\n",
        "# Criar o objeto BeautifulSoup\n",
        "sopa = BeautifulSoup(resposta.text, \"html.parser\")\n",
        "\n",
        "# Extrair citações\n",
        "citacoes = sopa.find_all(\"span\", class_=\"text\")\n",
        "autores = sopa.find_all(\"small\", class_=\"author\")\n",
        "\n",
        "for c, a in zip(citacoes, autores):\n",
        "    print(f\"{c.text} — {a.text}\")"
      ]
    }
  ]
}