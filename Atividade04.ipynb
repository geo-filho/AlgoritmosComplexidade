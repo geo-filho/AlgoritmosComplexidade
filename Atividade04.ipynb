{
  "nbformat": 4,
  "nbformat_minor": 0,
  "metadata": {
    "colab": {
      "provenance": [],
      "authorship_tag": "ABX9TyPMkCHdjiz8AEk5J6Ap+hXg",
      "include_colab_link": true
    },
    "kernelspec": {
      "name": "python3",
      "display_name": "Python 3"
    },
    "language_info": {
      "name": "python"
    }
  },
  "cells": [
    {
      "cell_type": "markdown",
      "metadata": {
        "id": "view-in-github",
        "colab_type": "text"
      },
      "source": [
        "<a href=\"https://colab.research.google.com/github/geo-filho/AlgoritmosComplexidade/blob/main/Atividade04.ipynb\" target=\"_parent\"><img src=\"https://colab.research.google.com/assets/colab-badge.svg\" alt=\"Open In Colab\"/></a>"
      ]
    },
    {
      "cell_type": "code",
      "execution_count": null,
      "metadata": {
        "colab": {
          "base_uri": "https://localhost:8080/"
        },
        "id": "bRsFdWRbsiZc",
        "outputId": "4c89a6ce-e679-49e0-e10a-6bf03999a09c"
      },
      "outputs": [
        {
          "output_type": "stream",
          "name": "stdout",
          "text": [
            "A Light in the Attic — Â£51.77 — In stock\n",
            "Tipping the Velvet — Â£53.74 — In stock\n",
            "Soumission — Â£50.10 — In stock\n",
            "Sharp Objects — Â£47.82 — In stock\n",
            "Sapiens: A Brief History of Humankind — Â£54.23 — In stock\n",
            "The Requiem Red — Â£22.65 — In stock\n",
            "The Dirty Little Secrets of Getting Your Dream Job — Â£33.34 — In stock\n",
            "The Coming Woman: A Novel Based on the Life of the Infamous Feminist, Victoria Woodhull — Â£17.93 — In stock\n",
            "The Boys in the Boat: Nine Americans and Their Epic Quest for Gold at the 1936 Berlin Olympics — Â£22.60 — In stock\n",
            "The Black Maria — Â£52.15 — In stock\n",
            "Starving Hearts (Triangular Trade Trilogy, #1) — Â£13.99 — In stock\n",
            "Shakespeare's Sonnets — Â£20.66 — In stock\n",
            "Set Me Free — Â£17.46 — In stock\n",
            "Scott Pilgrim's Precious Little Life (Scott Pilgrim #1) — Â£52.29 — In stock\n",
            "Rip it Up and Start Again — Â£35.02 — In stock\n",
            "Our Band Could Be Your Life: Scenes from the American Indie Underground, 1981-1991 — Â£57.25 — In stock\n",
            "Olio — Â£23.88 — In stock\n",
            "Mesaerion: The Best Science Fiction Stories 1800-1849 — Â£37.59 — In stock\n",
            "Libertarianism for Beginners — Â£51.33 — In stock\n",
            "It's Only the Himalayas — Â£45.17 — In stock\n"
          ]
        }
      ],
      "source": [
        "import requests\n",
        "from bs4 import BeautifulSoup\n",
        "\n",
        "url = \"https://books.toscrape.com/index.html\"\n",
        "resposta = requests.get(url)\n",
        "\n",
        "# Criar o objeto BeautifulSoup\n",
        "sopa = BeautifulSoup(resposta.text, \"html.parser\")\n",
        "\n",
        "# Extrair preços\n",
        "prices = sopa.find_all(\"p\", class_=\"price_color\")\n",
        "\n",
        "# Extrair títulos\n",
        "titles = sopa.find_all(\"a\", title=True)\n",
        "\n",
        "# Verificar se há estoque\n",
        "stock_availability = sopa.find_all(\"p\", class_=\"instock availability\")\n",
        "\n",
        "# Extract and print prices and titles\n",
        "for price, title_tag, stock in zip(prices, titles, stock_availability):\n",
        "    print(f\"{title_tag['title']} — {price.text} — {stock.text.strip()}\")"
      ]
    },
    {
      "cell_type": "code",
      "metadata": {
        "colab": {
          "base_uri": "https://localhost:8080/"
        },
        "id": "a723017f",
        "outputId": "47349df9-bcb0-44d4-979d-b8269160e0b8"
      },
      "source": [
        "import csv\n",
        "\n",
        "# Nome do arquivo\n",
        "filename = \"livros.csv\"\n",
        "\n",
        "with open(filename, 'w', newline='', encoding='utf-8') as csvfile:\n",
        "    # Criando CSV\n",
        "    csv_writer = csv.writer(csvfile)\n",
        "\n",
        "    # Cabeçalho\n",
        "    csv_writer.writerow(['Preço', 'Título', 'Estoque'])\n",
        "\n",
        "    # Escrevendo em linhas\n",
        "    for price, title_tag in zip(prices, titles):\n",
        "        csv_writer.writerow([price.text, title_tag['title'], stock.text.strip()])\n",
        "\n",
        "print(f\"Csv feito com sucesso {filename}\")"
      ],
      "execution_count": 12,
      "outputs": [
        {
          "output_type": "stream",
          "name": "stdout",
          "text": [
            "Csv feito com sucesso livros.csv\n"
          ]
        }
      ]
    }
  ]
}